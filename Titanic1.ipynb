{
 "cells": [
  {
   "cell_type": "markdown",
   "metadata": {},
   "source": []
  },
  {
   "cell_type": "code",
   "execution_count": 63,
   "metadata": {},
   "outputs": [],
   "source": [
    "import pandas as pd\n",
    "import numpy as np\n",
    "import os\n"
   ]
  },
  {
   "cell_type": "markdown",
   "metadata": {},
   "source": [
    "# Learning and Processing the Data"
   ]
  },
  {
   "cell_type": "code",
   "execution_count": 64,
   "metadata": {
    "tags": []
   },
   "outputs": [],
   "source": [
    "train = pd.read_csv(os.path.join(\"Data\",\"train.csv\"))\n",
    "test =  pd.read_csv(os.path.join(\"Data\",\"test.csv\"))\n"
   ]
  },
  {
   "cell_type": "code",
   "execution_count": 65,
   "metadata": {},
   "outputs": [
    {
     "output_type": "execute_result",
     "data": {
      "text/plain": "   PassengerId  Survived  Pclass  \\\n0            1         0       3   \n1            2         1       1   \n2            3         1       3   \n3            4         1       1   \n4            5         0       3   \n\n                                                Name     Sex   Age  SibSp  \\\n0                            Braund, Mr. Owen Harris    male  22.0      1   \n1  Cumings, Mrs. John Bradley (Florence Briggs Th...  female  38.0      1   \n2                             Heikkinen, Miss. Laina  female  26.0      0   \n3       Futrelle, Mrs. Jacques Heath (Lily May Peel)  female  35.0      1   \n4                           Allen, Mr. William Henry    male  35.0      0   \n\n   Parch            Ticket     Fare Cabin Embarked  \n0      0         A/5 21171   7.2500   NaN        S  \n1      0          PC 17599  71.2833   C85        C  \n2      0  STON/O2. 3101282   7.9250   NaN        S  \n3      0            113803  53.1000  C123        S  \n4      0            373450   8.0500   NaN        S  ",
      "text/html": "<div>\n<style scoped>\n    .dataframe tbody tr th:only-of-type {\n        vertical-align: middle;\n    }\n\n    .dataframe tbody tr th {\n        vertical-align: top;\n    }\n\n    .dataframe thead th {\n        text-align: right;\n    }\n</style>\n<table border=\"1\" class=\"dataframe\">\n  <thead>\n    <tr style=\"text-align: right;\">\n      <th></th>\n      <th>PassengerId</th>\n      <th>Survived</th>\n      <th>Pclass</th>\n      <th>Name</th>\n      <th>Sex</th>\n      <th>Age</th>\n      <th>SibSp</th>\n      <th>Parch</th>\n      <th>Ticket</th>\n      <th>Fare</th>\n      <th>Cabin</th>\n      <th>Embarked</th>\n    </tr>\n  </thead>\n  <tbody>\n    <tr>\n      <th>0</th>\n      <td>1</td>\n      <td>0</td>\n      <td>3</td>\n      <td>Braund, Mr. Owen Harris</td>\n      <td>male</td>\n      <td>22.0</td>\n      <td>1</td>\n      <td>0</td>\n      <td>A/5 21171</td>\n      <td>7.2500</td>\n      <td>NaN</td>\n      <td>S</td>\n    </tr>\n    <tr>\n      <th>1</th>\n      <td>2</td>\n      <td>1</td>\n      <td>1</td>\n      <td>Cumings, Mrs. John Bradley (Florence Briggs Th...</td>\n      <td>female</td>\n      <td>38.0</td>\n      <td>1</td>\n      <td>0</td>\n      <td>PC 17599</td>\n      <td>71.2833</td>\n      <td>C85</td>\n      <td>C</td>\n    </tr>\n    <tr>\n      <th>2</th>\n      <td>3</td>\n      <td>1</td>\n      <td>3</td>\n      <td>Heikkinen, Miss. Laina</td>\n      <td>female</td>\n      <td>26.0</td>\n      <td>0</td>\n      <td>0</td>\n      <td>STON/O2. 3101282</td>\n      <td>7.9250</td>\n      <td>NaN</td>\n      <td>S</td>\n    </tr>\n    <tr>\n      <th>3</th>\n      <td>4</td>\n      <td>1</td>\n      <td>1</td>\n      <td>Futrelle, Mrs. Jacques Heath (Lily May Peel)</td>\n      <td>female</td>\n      <td>35.0</td>\n      <td>1</td>\n      <td>0</td>\n      <td>113803</td>\n      <td>53.1000</td>\n      <td>C123</td>\n      <td>S</td>\n    </tr>\n    <tr>\n      <th>4</th>\n      <td>5</td>\n      <td>0</td>\n      <td>3</td>\n      <td>Allen, Mr. William Henry</td>\n      <td>male</td>\n      <td>35.0</td>\n      <td>0</td>\n      <td>0</td>\n      <td>373450</td>\n      <td>8.0500</td>\n      <td>NaN</td>\n      <td>S</td>\n    </tr>\n  </tbody>\n</table>\n</div>"
     },
     "metadata": {},
     "execution_count": 65
    }
   ],
   "source": [
    "train.head()"
   ]
  },
  {
   "cell_type": "code",
   "execution_count": 66,
   "metadata": {},
   "outputs": [
    {
     "output_type": "execute_result",
     "data": {
      "text/plain": "   PassengerId  Pclass                                          Name     Sex  \\\n0          892       3                              Kelly, Mr. James    male   \n1          893       3              Wilkes, Mrs. James (Ellen Needs)  female   \n2          894       2                     Myles, Mr. Thomas Francis    male   \n3          895       3                              Wirz, Mr. Albert    male   \n4          896       3  Hirvonen, Mrs. Alexander (Helga E Lindqvist)  female   \n\n    Age  SibSp  Parch   Ticket     Fare Cabin Embarked  \n0  34.5      0      0   330911   7.8292   NaN        Q  \n1  47.0      1      0   363272   7.0000   NaN        S  \n2  62.0      0      0   240276   9.6875   NaN        Q  \n3  27.0      0      0   315154   8.6625   NaN        S  \n4  22.0      1      1  3101298  12.2875   NaN        S  ",
      "text/html": "<div>\n<style scoped>\n    .dataframe tbody tr th:only-of-type {\n        vertical-align: middle;\n    }\n\n    .dataframe tbody tr th {\n        vertical-align: top;\n    }\n\n    .dataframe thead th {\n        text-align: right;\n    }\n</style>\n<table border=\"1\" class=\"dataframe\">\n  <thead>\n    <tr style=\"text-align: right;\">\n      <th></th>\n      <th>PassengerId</th>\n      <th>Pclass</th>\n      <th>Name</th>\n      <th>Sex</th>\n      <th>Age</th>\n      <th>SibSp</th>\n      <th>Parch</th>\n      <th>Ticket</th>\n      <th>Fare</th>\n      <th>Cabin</th>\n      <th>Embarked</th>\n    </tr>\n  </thead>\n  <tbody>\n    <tr>\n      <th>0</th>\n      <td>892</td>\n      <td>3</td>\n      <td>Kelly, Mr. James</td>\n      <td>male</td>\n      <td>34.5</td>\n      <td>0</td>\n      <td>0</td>\n      <td>330911</td>\n      <td>7.8292</td>\n      <td>NaN</td>\n      <td>Q</td>\n    </tr>\n    <tr>\n      <th>1</th>\n      <td>893</td>\n      <td>3</td>\n      <td>Wilkes, Mrs. James (Ellen Needs)</td>\n      <td>female</td>\n      <td>47.0</td>\n      <td>1</td>\n      <td>0</td>\n      <td>363272</td>\n      <td>7.0000</td>\n      <td>NaN</td>\n      <td>S</td>\n    </tr>\n    <tr>\n      <th>2</th>\n      <td>894</td>\n      <td>2</td>\n      <td>Myles, Mr. Thomas Francis</td>\n      <td>male</td>\n      <td>62.0</td>\n      <td>0</td>\n      <td>0</td>\n      <td>240276</td>\n      <td>9.6875</td>\n      <td>NaN</td>\n      <td>Q</td>\n    </tr>\n    <tr>\n      <th>3</th>\n      <td>895</td>\n      <td>3</td>\n      <td>Wirz, Mr. Albert</td>\n      <td>male</td>\n      <td>27.0</td>\n      <td>0</td>\n      <td>0</td>\n      <td>315154</td>\n      <td>8.6625</td>\n      <td>NaN</td>\n      <td>S</td>\n    </tr>\n    <tr>\n      <th>4</th>\n      <td>896</td>\n      <td>3</td>\n      <td>Hirvonen, Mrs. Alexander (Helga E Lindqvist)</td>\n      <td>female</td>\n      <td>22.0</td>\n      <td>1</td>\n      <td>1</td>\n      <td>3101298</td>\n      <td>12.2875</td>\n      <td>NaN</td>\n      <td>S</td>\n    </tr>\n  </tbody>\n</table>\n</div>"
     },
     "metadata": {},
     "execution_count": 66
    }
   ],
   "source": [
    "test.head()"
   ]
  },
  {
   "cell_type": "code",
   "execution_count": 67,
   "metadata": {},
   "outputs": [],
   "source": [
    "def process_sex_into_binary(word):\n",
    "    if word == 'male':\n",
    "        return(0)\n",
    "    else:\n",
    "        return(1)\n",
    "\n",
    "train['Classify_Sex'] = train['Sex'].map(process_sex_into_binary)\n",
    "test['Classify_Sex'] = test['Sex'].map(process_sex_into_binary)"
   ]
  },
  {
   "cell_type": "code",
   "execution_count": 68,
   "metadata": {},
   "outputs": [],
   "source": [
    "def process_dataset(dataset):\n",
    "    dataset['Embarked_S'] = (dataset['Embarked'] == 'S').astype(int)\n",
    "    dataset['Embarked_C'] = (dataset['Embarked'] == 'C').astype(int)\n",
    "\n",
    "    dataset['Null_cabin'] = ( dataset['Cabin'].isnull() ).astype(int)\n",
    "\n",
    "    dataset['Name_contains_Miss'] = (dataset[\"Name\"].str.contains(\"Miss\")).astype(int)\n",
    "    dataset['Name_contains_Mrs'] = (dataset[\"Name\"].str.contains(\"Mrs\")).astype(int)\n",
    "    dataset['Name_contains_Master'] = (dataset[\"Name\"].str.contains(\"Master\")).astype(int)\n",
    "    dataset['Name_contains_Col'] = (dataset[\"Name\"].str.contains(\"Col\")).astype(int)\n",
    "    dataset['Name_contains_Major'] = (dataset[\"Name\"].str.contains(\"Major\")).astype(int)\n",
    "    dataset['Name_contains_Mr'] = (dataset[\"Name\"].str.contains(\"Mr\")).astype(int)\n",
    "\n",
    "process_dataset(train)\n",
    "process_dataset(test)"
   ]
  },
  {
   "cell_type": "code",
   "execution_count": 69,
   "metadata": {},
   "outputs": [
    {
     "output_type": "execute_result",
     "data": {
      "text/plain": "        Sex  Classify_Sex\n0      male             0\n1    female             1\n2    female             1\n3    female             1\n4      male             0\n..      ...           ...\n886    male             0\n887  female             1\n888  female             1\n889    male             0\n890    male             0\n\n[891 rows x 2 columns]",
      "text/html": "<div>\n<style scoped>\n    .dataframe tbody tr th:only-of-type {\n        vertical-align: middle;\n    }\n\n    .dataframe tbody tr th {\n        vertical-align: top;\n    }\n\n    .dataframe thead th {\n        text-align: right;\n    }\n</style>\n<table border=\"1\" class=\"dataframe\">\n  <thead>\n    <tr style=\"text-align: right;\">\n      <th></th>\n      <th>Sex</th>\n      <th>Classify_Sex</th>\n    </tr>\n  </thead>\n  <tbody>\n    <tr>\n      <th>0</th>\n      <td>male</td>\n      <td>0</td>\n    </tr>\n    <tr>\n      <th>1</th>\n      <td>female</td>\n      <td>1</td>\n    </tr>\n    <tr>\n      <th>2</th>\n      <td>female</td>\n      <td>1</td>\n    </tr>\n    <tr>\n      <th>3</th>\n      <td>female</td>\n      <td>1</td>\n    </tr>\n    <tr>\n      <th>4</th>\n      <td>male</td>\n      <td>0</td>\n    </tr>\n    <tr>\n      <th>...</th>\n      <td>...</td>\n      <td>...</td>\n    </tr>\n    <tr>\n      <th>886</th>\n      <td>male</td>\n      <td>0</td>\n    </tr>\n    <tr>\n      <th>887</th>\n      <td>female</td>\n      <td>1</td>\n    </tr>\n    <tr>\n      <th>888</th>\n      <td>female</td>\n      <td>1</td>\n    </tr>\n    <tr>\n      <th>889</th>\n      <td>male</td>\n      <td>0</td>\n    </tr>\n    <tr>\n      <th>890</th>\n      <td>male</td>\n      <td>0</td>\n    </tr>\n  </tbody>\n</table>\n<p>891 rows × 2 columns</p>\n</div>"
     },
     "metadata": {},
     "execution_count": 69
    }
   ],
   "source": [
    "#Checking the train\n",
    "train[['Sex','Classify_Sex']]"
   ]
  },
  {
   "cell_type": "code",
   "execution_count": 70,
   "metadata": {},
   "outputs": [],
   "source": [
    "from sklearn.ensemble import RandomForestClassifier"
   ]
  },
  {
   "cell_type": "code",
   "execution_count": 71,
   "metadata": {},
   "outputs": [],
   "source": [
    "def train_model(X_train, X_dev, y_train, y_dev):\n",
    "    model = {}\n",
    "\n",
    "    # Training\n",
    "    arch = RandomForestClassifier(n_estimators=100,n_jobs=-1,random_state=0)\n",
    "    model['architecture'] = arch\n",
    "    arch.fit(X_train,y_train)\n",
    "\n",
    "    # Predicting\n",
    "    model['predict_train'] = arch.predict(X_train)\n",
    "    model['predict_dev'] = arch.predict(X_dev)\n",
    "\n",
    "    # Evaluating\n",
    "    model['train_accuracy'] = np.mean(model['predict_train'] == y_train)\n",
    "    model['dev_accuracy'] = np.mean(model['predict_dev'] == y_dev)\n",
    "    \n",
    "    return model\n"
   ]
  },
  {
   "cell_type": "code",
   "execution_count": 72,
   "metadata": {},
   "outputs": [],
   "source": [
    "from sklearn.model_selection import train_test_split\n",
    "from sklearn.model_selection import RepeatedKFold"
   ]
  },
  {
   "cell_type": "code",
   "execution_count": 73,
   "metadata": {
    "tags": []
   },
   "outputs": [
    {
     "output_type": "stream",
     "name": "stdout",
     "text": "Train sizes:  594\nDev sizes:  297\n"
    }
   ],
   "source": [
    "variables1 = ['Classify_Sex', 'Age', 'Pclass','SibSp','Parch','Fare']\n",
    "variables2 = ['Classify_Sex', 'Age', 'Pclass','SibSp','Parch','Fare','Embarked_S','Embarked_C','Null_cabin','Name_contains_Miss','Name_contains_Mrs', 'Name_contains_Master', 'Name_contains_Col', 'Name_contains_Major', 'Name_contains_Mr']\n",
    "\n",
    "variables = variables2\n",
    "X = train[variables]\n",
    "X = X.fillna(-1)\n",
    "y = train['Survived']\n",
    "\n",
    "# Splitting the Set\n",
    "#np.random.seed(1)\n",
    "#X_train, X_dev, y_train, y_dev = train_test_split(X, y, test_size=0.3)\n",
    "\n",
    "# Several splits of the training-dev sets\n",
    "models = []\n",
    "kf = RepeatedKFold(n_splits=3, n_repeats=5, random_state=10)\n",
    "for train_indexes, dev_indexes in kf.split(X):\n",
    "    X_train = X.iloc[train_indexes]\n",
    "    X_dev = X.iloc[dev_indexes]\n",
    "    y_train = y.iloc[train_indexes]\n",
    "    y_dev = y.iloc[dev_indexes]\n",
    "\n",
    "    model = train_model(X_train, X_dev, y_train, y_dev)\n",
    "    models.append(model)\n",
    "print('Train sizes: ', train_indexes.shape[0])\n",
    "print('Dev sizes: ', dev_indexes.shape[0])"
   ]
  },
  {
   "cell_type": "code",
   "execution_count": 74,
   "metadata": {
    "tags": []
   },
   "outputs": [
    {
     "output_type": "stream",
     "name": "stdout",
     "text": "Model  1\nTrain accuracy:  0.9915824915824916\nDev accuracy:  0.8181818181818182\n\nModel  2\nTrain accuracy:  0.9882154882154882\nDev accuracy:  0.8148148148148148\n\nModel  3\nTrain accuracy:  0.9949494949494949\nDev accuracy:  0.8047138047138047\n\nModel  4\nTrain accuracy:  0.9932659932659933\nDev accuracy:  0.8114478114478114\n\nModel  5\nTrain accuracy:  0.9882154882154882\nDev accuracy:  0.7878787878787878\n\nModel  6\nTrain accuracy:  0.9865319865319865\nDev accuracy:  0.8013468013468014\n\nModel  7\nTrain accuracy:  0.9915824915824916\nDev accuracy:  0.8047138047138047\n\nModel  8\nTrain accuracy:  0.9848484848484849\nDev accuracy:  0.8249158249158249\n\nModel  9\nTrain accuracy:  0.9949494949494949\nDev accuracy:  0.8181818181818182\n\nModel  10\nTrain accuracy:  0.9831649831649831\nDev accuracy:  0.8417508417508418\n\nModel  11\nTrain accuracy:  0.9932659932659933\nDev accuracy:  0.8080808080808081\n\nModel  12\nTrain accuracy:  0.9932659932659933\nDev accuracy:  0.8114478114478114\n\nModel  13\nTrain accuracy:  0.9932659932659933\nDev accuracy:  0.797979797979798\n\nModel  14\nTrain accuracy:  0.9865319865319865\nDev accuracy:  0.8282828282828283\n\nModel  15\nTrain accuracy:  0.9949494949494949\nDev accuracy:  0.7912457912457912\n\nMean dev accuracy:  0.8109988776655442\n"
    }
   ],
   "source": [
    "accuracy = 0\n",
    "\n",
    "for i in range(len(models)):\n",
    "    print('Model ', i+1)\n",
    "    print(\"Train accuracy: \", models[i]['train_accuracy'])\n",
    "    print(\"Dev accuracy: \", models[i]['dev_accuracy'])\n",
    "    print()\n",
    "    accuracy += models[i]['dev_accuracy']\n",
    "accuracy /= len(models)\n",
    "\n",
    "print(\"Mean dev accuracy: \", accuracy)"
   ]
  },
  {
   "cell_type": "markdown",
   "metadata": {},
   "source": [
    "## Error analysis"
   ]
  },
  {
   "cell_type": "code",
   "execution_count": 75,
   "metadata": {},
   "outputs": [
    {
     "output_type": "execute_result",
     "data": {
      "text/plain": "    PassengerId  Survived  Pclass  \\\n14           15         0       3   \n27           28         0       1   \n38           39         0       3   \n41           42         0       2   \n49           50         0       3   \n\n                                                 Name     Sex   Age  SibSp  \\\n14               Vestrom, Miss. Hulda Amanda Adolfina  female  14.0      0   \n27                     Fortune, Mr. Charles Alexander    male  19.0      3   \n38                 Vander Planke, Miss. Augusta Maria  female  18.0      2   \n41  Turpin, Mrs. William John Robert (Dorothy Ann ...  female  27.0      1   \n49      Arnold-Franchi, Mrs. Josef (Josefine Franchi)  female  18.0      1   \n\n    Parch  Ticket      Fare  ... Embarked_S Embarked_C  Null_cabin  \\\n14      0  350406    7.8542  ...          1          0           1   \n27      2   19950  263.0000  ...          1          0           0   \n38      0  345764   18.0000  ...          1          0           1   \n41      0   11668   21.0000  ...          1          0           1   \n49      0  349237   17.8000  ...          1          0           1   \n\n    Name_contains_Miss  Name_contains_Mrs  Name_contains_Master  \\\n14                   1                  0                     0   \n27                   0                  0                     0   \n38                   1                  0                     0   \n41                   0                  1                     0   \n49                   0                  1                     0   \n\n    Name_contains_Col  Name_contains_Major  Name_contains_Mr  Predicted  \n14                  0                    0                 0          1  \n27                  0                    0                 1          1  \n38                  0                    0                 0          1  \n41                  0                    0                 1          1  \n49                  0                    0                 1          1  \n\n[5 rows x 23 columns]",
      "text/html": "<div>\n<style scoped>\n    .dataframe tbody tr th:only-of-type {\n        vertical-align: middle;\n    }\n\n    .dataframe tbody tr th {\n        vertical-align: top;\n    }\n\n    .dataframe thead th {\n        text-align: right;\n    }\n</style>\n<table border=\"1\" class=\"dataframe\">\n  <thead>\n    <tr style=\"text-align: right;\">\n      <th></th>\n      <th>PassengerId</th>\n      <th>Survived</th>\n      <th>Pclass</th>\n      <th>Name</th>\n      <th>Sex</th>\n      <th>Age</th>\n      <th>SibSp</th>\n      <th>Parch</th>\n      <th>Ticket</th>\n      <th>Fare</th>\n      <th>...</th>\n      <th>Embarked_S</th>\n      <th>Embarked_C</th>\n      <th>Null_cabin</th>\n      <th>Name_contains_Miss</th>\n      <th>Name_contains_Mrs</th>\n      <th>Name_contains_Master</th>\n      <th>Name_contains_Col</th>\n      <th>Name_contains_Major</th>\n      <th>Name_contains_Mr</th>\n      <th>Predicted</th>\n    </tr>\n  </thead>\n  <tbody>\n    <tr>\n      <th>14</th>\n      <td>15</td>\n      <td>0</td>\n      <td>3</td>\n      <td>Vestrom, Miss. Hulda Amanda Adolfina</td>\n      <td>female</td>\n      <td>14.0</td>\n      <td>0</td>\n      <td>0</td>\n      <td>350406</td>\n      <td>7.8542</td>\n      <td>...</td>\n      <td>1</td>\n      <td>0</td>\n      <td>1</td>\n      <td>1</td>\n      <td>0</td>\n      <td>0</td>\n      <td>0</td>\n      <td>0</td>\n      <td>0</td>\n      <td>1</td>\n    </tr>\n    <tr>\n      <th>27</th>\n      <td>28</td>\n      <td>0</td>\n      <td>1</td>\n      <td>Fortune, Mr. Charles Alexander</td>\n      <td>male</td>\n      <td>19.0</td>\n      <td>3</td>\n      <td>2</td>\n      <td>19950</td>\n      <td>263.0000</td>\n      <td>...</td>\n      <td>1</td>\n      <td>0</td>\n      <td>0</td>\n      <td>0</td>\n      <td>0</td>\n      <td>0</td>\n      <td>0</td>\n      <td>0</td>\n      <td>1</td>\n      <td>1</td>\n    </tr>\n    <tr>\n      <th>38</th>\n      <td>39</td>\n      <td>0</td>\n      <td>3</td>\n      <td>Vander Planke, Miss. Augusta Maria</td>\n      <td>female</td>\n      <td>18.0</td>\n      <td>2</td>\n      <td>0</td>\n      <td>345764</td>\n      <td>18.0000</td>\n      <td>...</td>\n      <td>1</td>\n      <td>0</td>\n      <td>1</td>\n      <td>1</td>\n      <td>0</td>\n      <td>0</td>\n      <td>0</td>\n      <td>0</td>\n      <td>0</td>\n      <td>1</td>\n    </tr>\n    <tr>\n      <th>41</th>\n      <td>42</td>\n      <td>0</td>\n      <td>2</td>\n      <td>Turpin, Mrs. William John Robert (Dorothy Ann ...</td>\n      <td>female</td>\n      <td>27.0</td>\n      <td>1</td>\n      <td>0</td>\n      <td>11668</td>\n      <td>21.0000</td>\n      <td>...</td>\n      <td>1</td>\n      <td>0</td>\n      <td>1</td>\n      <td>0</td>\n      <td>1</td>\n      <td>0</td>\n      <td>0</td>\n      <td>0</td>\n      <td>1</td>\n      <td>1</td>\n    </tr>\n    <tr>\n      <th>49</th>\n      <td>50</td>\n      <td>0</td>\n      <td>3</td>\n      <td>Arnold-Franchi, Mrs. Josef (Josefine Franchi)</td>\n      <td>female</td>\n      <td>18.0</td>\n      <td>1</td>\n      <td>0</td>\n      <td>349237</td>\n      <td>17.8000</td>\n      <td>...</td>\n      <td>1</td>\n      <td>0</td>\n      <td>1</td>\n      <td>0</td>\n      <td>1</td>\n      <td>0</td>\n      <td>0</td>\n      <td>0</td>\n      <td>1</td>\n      <td>1</td>\n    </tr>\n  </tbody>\n</table>\n<p>5 rows × 23 columns</p>\n</div>"
     },
     "metadata": {},
     "execution_count": 75
    }
   ],
   "source": [
    "previous_model = models[-1]\n",
    "check_X_dev = train.iloc[dev_indexes].copy()\n",
    "\n",
    "check_X_dev['Predicted'] = previous_model['predict_dev'] \n",
    "errors = check_X_dev[ check_X_dev['Predicted'] != check_X_dev['Survived'] ]\n",
    "errors.head()"
   ]
  },
  {
   "cell_type": "code",
   "execution_count": 76,
   "metadata": {},
   "outputs": [
    {
     "output_type": "execute_result",
     "data": {
      "text/plain": "    PassengerId  Predicted  Survived     Sex   Age  Pclass  SibSp  Parch  \\\n14           15          1         0  female  14.0       3      0      0   \n27           28          1         0    male  19.0       1      3      2   \n38           39          1         0  female  18.0       3      2      0   \n41           42          1         0  female  27.0       2      1      0   \n49           50          1         0  female  18.0       3      1      0   \n\n    Ticket      Fare        Cabin Embarked  \\\n14  350406    7.8542          NaN        S   \n27   19950  263.0000  C23 C25 C27        S   \n38  345764   18.0000          NaN        S   \n41   11668   21.0000          NaN        S   \n49  349237   17.8000          NaN        S   \n\n                                                 Name  \n14               Vestrom, Miss. Hulda Amanda Adolfina  \n27                     Fortune, Mr. Charles Alexander  \n38                 Vander Planke, Miss. Augusta Maria  \n41  Turpin, Mrs. William John Robert (Dorothy Ann ...  \n49      Arnold-Franchi, Mrs. Josef (Josefine Franchi)  ",
      "text/html": "<div>\n<style scoped>\n    .dataframe tbody tr th:only-of-type {\n        vertical-align: middle;\n    }\n\n    .dataframe tbody tr th {\n        vertical-align: top;\n    }\n\n    .dataframe thead th {\n        text-align: right;\n    }\n</style>\n<table border=\"1\" class=\"dataframe\">\n  <thead>\n    <tr style=\"text-align: right;\">\n      <th></th>\n      <th>PassengerId</th>\n      <th>Predicted</th>\n      <th>Survived</th>\n      <th>Sex</th>\n      <th>Age</th>\n      <th>Pclass</th>\n      <th>SibSp</th>\n      <th>Parch</th>\n      <th>Ticket</th>\n      <th>Fare</th>\n      <th>Cabin</th>\n      <th>Embarked</th>\n      <th>Name</th>\n    </tr>\n  </thead>\n  <tbody>\n    <tr>\n      <th>14</th>\n      <td>15</td>\n      <td>1</td>\n      <td>0</td>\n      <td>female</td>\n      <td>14.0</td>\n      <td>3</td>\n      <td>0</td>\n      <td>0</td>\n      <td>350406</td>\n      <td>7.8542</td>\n      <td>NaN</td>\n      <td>S</td>\n      <td>Vestrom, Miss. Hulda Amanda Adolfina</td>\n    </tr>\n    <tr>\n      <th>27</th>\n      <td>28</td>\n      <td>1</td>\n      <td>0</td>\n      <td>male</td>\n      <td>19.0</td>\n      <td>1</td>\n      <td>3</td>\n      <td>2</td>\n      <td>19950</td>\n      <td>263.0000</td>\n      <td>C23 C25 C27</td>\n      <td>S</td>\n      <td>Fortune, Mr. Charles Alexander</td>\n    </tr>\n    <tr>\n      <th>38</th>\n      <td>39</td>\n      <td>1</td>\n      <td>0</td>\n      <td>female</td>\n      <td>18.0</td>\n      <td>3</td>\n      <td>2</td>\n      <td>0</td>\n      <td>345764</td>\n      <td>18.0000</td>\n      <td>NaN</td>\n      <td>S</td>\n      <td>Vander Planke, Miss. Augusta Maria</td>\n    </tr>\n    <tr>\n      <th>41</th>\n      <td>42</td>\n      <td>1</td>\n      <td>0</td>\n      <td>female</td>\n      <td>27.0</td>\n      <td>2</td>\n      <td>1</td>\n      <td>0</td>\n      <td>11668</td>\n      <td>21.0000</td>\n      <td>NaN</td>\n      <td>S</td>\n      <td>Turpin, Mrs. William John Robert (Dorothy Ann ...</td>\n    </tr>\n    <tr>\n      <th>49</th>\n      <td>50</td>\n      <td>1</td>\n      <td>0</td>\n      <td>female</td>\n      <td>18.0</td>\n      <td>3</td>\n      <td>1</td>\n      <td>0</td>\n      <td>349237</td>\n      <td>17.8000</td>\n      <td>NaN</td>\n      <td>S</td>\n      <td>Arnold-Franchi, Mrs. Josef (Josefine Franchi)</td>\n    </tr>\n  </tbody>\n</table>\n</div>"
     },
     "metadata": {},
     "execution_count": 76
    }
   ],
   "source": [
    "errors = errors [['PassengerId', 'Predicted','Survived', 'Sex', 'Age','Pclass', 'SibSp', 'Parch', 'Ticket', 'Fare', 'Cabin', 'Embarked','Name']]\n",
    "errors.head()"
   ]
  },
  {
   "cell_type": "code",
   "execution_count": 77,
   "metadata": {},
   "outputs": [],
   "source": [
    "women = errors[ errors['Sex'] == 'female' ]\n",
    "men = errors[ errors['Sex'] == 'male' ]"
   ]
  },
  {
   "cell_type": "code",
   "execution_count": 78,
   "metadata": {},
   "outputs": [
    {
     "output_type": "execute_result",
     "data": {
      "text/plain": "     PassengerId  Predicted  Survived     Sex   Age  Pclass  SibSp  Parch  \\\n14            15          1         0  female  14.0       3      0      0   \n807          808          1         0  female  18.0       3      0      0   \n654          655          1         0  female  18.0       3      0      0   \n617          618          1         0  female  26.0       3      1      0   \n578          579          1         0  female   NaN       3      1      0   \n567          568          1         0  female  29.0       3      0      4   \n415          416          1         0  female   NaN       3      0      0   \n362          363          1         0  female  45.0       3      0      1   \n357          358          1         0  female  38.0       2      0      0   \n312          313          1         0  female  26.0       2      1      1   \n816          817          1         0  female  23.0       3      0      0   \n854          855          1         0  female  44.0       2      1      0   \n240          241          1         0  female   NaN       3      1      0   \n199          200          1         0  female  24.0       2      0      0   \n140          141          1         0  female   NaN       3      0      2   \n49            50          1         0  female  18.0       3      1      0   \n41            42          1         0  female  27.0       2      1      0   \n38            39          1         0  female  18.0       3      2      0   \n254          255          1         0  female  41.0       3      0      2   \n184          185          0         1  female   4.0       3      0      2   \n85            86          0         1  female  33.0       3      3      0   \n79            80          0         1  female  30.0       3      0      0   \n677          678          0         1  female  18.0       3      0      0   \n289          290          0         1  female  22.0       3      0      0   \n\n               Ticket     Fare Cabin Embarked  \\\n14             350406   7.8542   NaN        S   \n807            347087   7.7750   NaN        S   \n654            365226   6.7500   NaN        Q   \n617         A/5. 3336  16.1000   NaN        S   \n578              2689  14.4583   NaN        C   \n567            349909  21.0750   NaN        S   \n415            343095   8.0500   NaN        S   \n362              2691  14.4542   NaN        C   \n357            237671  13.0000   NaN        S   \n312            250651  26.0000   NaN        S   \n816  STON/O2. 3101290   7.9250   NaN        S   \n854            244252  26.0000   NaN        S   \n240              2665  14.4542   NaN        C   \n199            248747  13.0000   NaN        S   \n140              2678  15.2458   NaN        C   \n49             349237  17.8000   NaN        S   \n41              11668  21.0000   NaN        S   \n38             345764  18.0000   NaN        S   \n254            370129  20.2125   NaN        S   \n184            315153  22.0250   NaN        S   \n85            3101278  15.8500   NaN        S   \n79             364516  12.4750   NaN        S   \n677              4138   9.8417   NaN        S   \n289            370373   7.7500   NaN        Q   \n\n                                                  Name  \n14                Vestrom, Miss. Hulda Amanda Adolfina  \n807                    Pettersson, Miss. Ellen Natalia  \n654                       Hegarty, Miss. Hanora \"Nora\"  \n617    Lobb, Mrs. William Arthur (Cordelia K Stanlick)  \n578                   Caram, Mrs. Joseph (Maria Elias)  \n567        Palsson, Mrs. Nils (Alma Cornelia Berglund)  \n415            Meek, Mrs. Thomas (Annie Louise Rowley)  \n362                    Barbara, Mrs. (Catherine David)  \n357                          Funk, Miss. Annie Clemmer  \n312              Lahtinen, Mrs. William (Anna Sylfven)  \n816                       Heininen, Miss. Wendla Maria  \n854      Carter, Mrs. Ernest Courtenay (Lilian Hughes)  \n240                              Zabour, Miss. Thamine  \n199             Yrois, Miss. Henriette (\"Mrs Harbeck\")  \n140                      Boulos, Mrs. Joseph (Sultana)  \n49       Arnold-Franchi, Mrs. Josef (Josefine Franchi)  \n41   Turpin, Mrs. William John Robert (Dorothy Ann ...  \n38                  Vander Planke, Miss. Augusta Maria  \n254           Rosblom, Mrs. Viktor (Helena Wilhelmina)  \n184                Kink-Heilmann, Miss. Luise Gretchen  \n85   Backstrom, Mrs. Karl Alfred (Maria Mathilda Gu...  \n79                            Dowdell, Miss. Elizabeth  \n677                            Turja, Miss. Anna Sofia  \n289                               Connolly, Miss. Kate  ",
      "text/html": "<div>\n<style scoped>\n    .dataframe tbody tr th:only-of-type {\n        vertical-align: middle;\n    }\n\n    .dataframe tbody tr th {\n        vertical-align: top;\n    }\n\n    .dataframe thead th {\n        text-align: right;\n    }\n</style>\n<table border=\"1\" class=\"dataframe\">\n  <thead>\n    <tr style=\"text-align: right;\">\n      <th></th>\n      <th>PassengerId</th>\n      <th>Predicted</th>\n      <th>Survived</th>\n      <th>Sex</th>\n      <th>Age</th>\n      <th>Pclass</th>\n      <th>SibSp</th>\n      <th>Parch</th>\n      <th>Ticket</th>\n      <th>Fare</th>\n      <th>Cabin</th>\n      <th>Embarked</th>\n      <th>Name</th>\n    </tr>\n  </thead>\n  <tbody>\n    <tr>\n      <th>14</th>\n      <td>15</td>\n      <td>1</td>\n      <td>0</td>\n      <td>female</td>\n      <td>14.0</td>\n      <td>3</td>\n      <td>0</td>\n      <td>0</td>\n      <td>350406</td>\n      <td>7.8542</td>\n      <td>NaN</td>\n      <td>S</td>\n      <td>Vestrom, Miss. Hulda Amanda Adolfina</td>\n    </tr>\n    <tr>\n      <th>807</th>\n      <td>808</td>\n      <td>1</td>\n      <td>0</td>\n      <td>female</td>\n      <td>18.0</td>\n      <td>3</td>\n      <td>0</td>\n      <td>0</td>\n      <td>347087</td>\n      <td>7.7750</td>\n      <td>NaN</td>\n      <td>S</td>\n      <td>Pettersson, Miss. Ellen Natalia</td>\n    </tr>\n    <tr>\n      <th>654</th>\n      <td>655</td>\n      <td>1</td>\n      <td>0</td>\n      <td>female</td>\n      <td>18.0</td>\n      <td>3</td>\n      <td>0</td>\n      <td>0</td>\n      <td>365226</td>\n      <td>6.7500</td>\n      <td>NaN</td>\n      <td>Q</td>\n      <td>Hegarty, Miss. Hanora \"Nora\"</td>\n    </tr>\n    <tr>\n      <th>617</th>\n      <td>618</td>\n      <td>1</td>\n      <td>0</td>\n      <td>female</td>\n      <td>26.0</td>\n      <td>3</td>\n      <td>1</td>\n      <td>0</td>\n      <td>A/5. 3336</td>\n      <td>16.1000</td>\n      <td>NaN</td>\n      <td>S</td>\n      <td>Lobb, Mrs. William Arthur (Cordelia K Stanlick)</td>\n    </tr>\n    <tr>\n      <th>578</th>\n      <td>579</td>\n      <td>1</td>\n      <td>0</td>\n      <td>female</td>\n      <td>NaN</td>\n      <td>3</td>\n      <td>1</td>\n      <td>0</td>\n      <td>2689</td>\n      <td>14.4583</td>\n      <td>NaN</td>\n      <td>C</td>\n      <td>Caram, Mrs. Joseph (Maria Elias)</td>\n    </tr>\n    <tr>\n      <th>567</th>\n      <td>568</td>\n      <td>1</td>\n      <td>0</td>\n      <td>female</td>\n      <td>29.0</td>\n      <td>3</td>\n      <td>0</td>\n      <td>4</td>\n      <td>349909</td>\n      <td>21.0750</td>\n      <td>NaN</td>\n      <td>S</td>\n      <td>Palsson, Mrs. Nils (Alma Cornelia Berglund)</td>\n    </tr>\n    <tr>\n      <th>415</th>\n      <td>416</td>\n      <td>1</td>\n      <td>0</td>\n      <td>female</td>\n      <td>NaN</td>\n      <td>3</td>\n      <td>0</td>\n      <td>0</td>\n      <td>343095</td>\n      <td>8.0500</td>\n      <td>NaN</td>\n      <td>S</td>\n      <td>Meek, Mrs. Thomas (Annie Louise Rowley)</td>\n    </tr>\n    <tr>\n      <th>362</th>\n      <td>363</td>\n      <td>1</td>\n      <td>0</td>\n      <td>female</td>\n      <td>45.0</td>\n      <td>3</td>\n      <td>0</td>\n      <td>1</td>\n      <td>2691</td>\n      <td>14.4542</td>\n      <td>NaN</td>\n      <td>C</td>\n      <td>Barbara, Mrs. (Catherine David)</td>\n    </tr>\n    <tr>\n      <th>357</th>\n      <td>358</td>\n      <td>1</td>\n      <td>0</td>\n      <td>female</td>\n      <td>38.0</td>\n      <td>2</td>\n      <td>0</td>\n      <td>0</td>\n      <td>237671</td>\n      <td>13.0000</td>\n      <td>NaN</td>\n      <td>S</td>\n      <td>Funk, Miss. Annie Clemmer</td>\n    </tr>\n    <tr>\n      <th>312</th>\n      <td>313</td>\n      <td>1</td>\n      <td>0</td>\n      <td>female</td>\n      <td>26.0</td>\n      <td>2</td>\n      <td>1</td>\n      <td>1</td>\n      <td>250651</td>\n      <td>26.0000</td>\n      <td>NaN</td>\n      <td>S</td>\n      <td>Lahtinen, Mrs. William (Anna Sylfven)</td>\n    </tr>\n    <tr>\n      <th>816</th>\n      <td>817</td>\n      <td>1</td>\n      <td>0</td>\n      <td>female</td>\n      <td>23.0</td>\n      <td>3</td>\n      <td>0</td>\n      <td>0</td>\n      <td>STON/O2. 3101290</td>\n      <td>7.9250</td>\n      <td>NaN</td>\n      <td>S</td>\n      <td>Heininen, Miss. Wendla Maria</td>\n    </tr>\n    <tr>\n      <th>854</th>\n      <td>855</td>\n      <td>1</td>\n      <td>0</td>\n      <td>female</td>\n      <td>44.0</td>\n      <td>2</td>\n      <td>1</td>\n      <td>0</td>\n      <td>244252</td>\n      <td>26.0000</td>\n      <td>NaN</td>\n      <td>S</td>\n      <td>Carter, Mrs. Ernest Courtenay (Lilian Hughes)</td>\n    </tr>\n    <tr>\n      <th>240</th>\n      <td>241</td>\n      <td>1</td>\n      <td>0</td>\n      <td>female</td>\n      <td>NaN</td>\n      <td>3</td>\n      <td>1</td>\n      <td>0</td>\n      <td>2665</td>\n      <td>14.4542</td>\n      <td>NaN</td>\n      <td>C</td>\n      <td>Zabour, Miss. Thamine</td>\n    </tr>\n    <tr>\n      <th>199</th>\n      <td>200</td>\n      <td>1</td>\n      <td>0</td>\n      <td>female</td>\n      <td>24.0</td>\n      <td>2</td>\n      <td>0</td>\n      <td>0</td>\n      <td>248747</td>\n      <td>13.0000</td>\n      <td>NaN</td>\n      <td>S</td>\n      <td>Yrois, Miss. Henriette (\"Mrs Harbeck\")</td>\n    </tr>\n    <tr>\n      <th>140</th>\n      <td>141</td>\n      <td>1</td>\n      <td>0</td>\n      <td>female</td>\n      <td>NaN</td>\n      <td>3</td>\n      <td>0</td>\n      <td>2</td>\n      <td>2678</td>\n      <td>15.2458</td>\n      <td>NaN</td>\n      <td>C</td>\n      <td>Boulos, Mrs. Joseph (Sultana)</td>\n    </tr>\n    <tr>\n      <th>49</th>\n      <td>50</td>\n      <td>1</td>\n      <td>0</td>\n      <td>female</td>\n      <td>18.0</td>\n      <td>3</td>\n      <td>1</td>\n      <td>0</td>\n      <td>349237</td>\n      <td>17.8000</td>\n      <td>NaN</td>\n      <td>S</td>\n      <td>Arnold-Franchi, Mrs. Josef (Josefine Franchi)</td>\n    </tr>\n    <tr>\n      <th>41</th>\n      <td>42</td>\n      <td>1</td>\n      <td>0</td>\n      <td>female</td>\n      <td>27.0</td>\n      <td>2</td>\n      <td>1</td>\n      <td>0</td>\n      <td>11668</td>\n      <td>21.0000</td>\n      <td>NaN</td>\n      <td>S</td>\n      <td>Turpin, Mrs. William John Robert (Dorothy Ann ...</td>\n    </tr>\n    <tr>\n      <th>38</th>\n      <td>39</td>\n      <td>1</td>\n      <td>0</td>\n      <td>female</td>\n      <td>18.0</td>\n      <td>3</td>\n      <td>2</td>\n      <td>0</td>\n      <td>345764</td>\n      <td>18.0000</td>\n      <td>NaN</td>\n      <td>S</td>\n      <td>Vander Planke, Miss. Augusta Maria</td>\n    </tr>\n    <tr>\n      <th>254</th>\n      <td>255</td>\n      <td>1</td>\n      <td>0</td>\n      <td>female</td>\n      <td>41.0</td>\n      <td>3</td>\n      <td>0</td>\n      <td>2</td>\n      <td>370129</td>\n      <td>20.2125</td>\n      <td>NaN</td>\n      <td>S</td>\n      <td>Rosblom, Mrs. Viktor (Helena Wilhelmina)</td>\n    </tr>\n    <tr>\n      <th>184</th>\n      <td>185</td>\n      <td>0</td>\n      <td>1</td>\n      <td>female</td>\n      <td>4.0</td>\n      <td>3</td>\n      <td>0</td>\n      <td>2</td>\n      <td>315153</td>\n      <td>22.0250</td>\n      <td>NaN</td>\n      <td>S</td>\n      <td>Kink-Heilmann, Miss. Luise Gretchen</td>\n    </tr>\n    <tr>\n      <th>85</th>\n      <td>86</td>\n      <td>0</td>\n      <td>1</td>\n      <td>female</td>\n      <td>33.0</td>\n      <td>3</td>\n      <td>3</td>\n      <td>0</td>\n      <td>3101278</td>\n      <td>15.8500</td>\n      <td>NaN</td>\n      <td>S</td>\n      <td>Backstrom, Mrs. Karl Alfred (Maria Mathilda Gu...</td>\n    </tr>\n    <tr>\n      <th>79</th>\n      <td>80</td>\n      <td>0</td>\n      <td>1</td>\n      <td>female</td>\n      <td>30.0</td>\n      <td>3</td>\n      <td>0</td>\n      <td>0</td>\n      <td>364516</td>\n      <td>12.4750</td>\n      <td>NaN</td>\n      <td>S</td>\n      <td>Dowdell, Miss. Elizabeth</td>\n    </tr>\n    <tr>\n      <th>677</th>\n      <td>678</td>\n      <td>0</td>\n      <td>1</td>\n      <td>female</td>\n      <td>18.0</td>\n      <td>3</td>\n      <td>0</td>\n      <td>0</td>\n      <td>4138</td>\n      <td>9.8417</td>\n      <td>NaN</td>\n      <td>S</td>\n      <td>Turja, Miss. Anna Sofia</td>\n    </tr>\n    <tr>\n      <th>289</th>\n      <td>290</td>\n      <td>0</td>\n      <td>1</td>\n      <td>female</td>\n      <td>22.0</td>\n      <td>3</td>\n      <td>0</td>\n      <td>0</td>\n      <td>370373</td>\n      <td>7.7500</td>\n      <td>NaN</td>\n      <td>Q</td>\n      <td>Connolly, Miss. Kate</td>\n    </tr>\n  </tbody>\n</table>\n</div>"
     },
     "metadata": {},
     "execution_count": 78
    }
   ],
   "source": [
    "women.sort_values('Survived')"
   ]
  },
  {
   "cell_type": "code",
   "execution_count": 61,
   "metadata": {},
   "outputs": [
    {
     "output_type": "execute_result",
     "data": {
      "text/plain": "     PassengerId  Predicted  Survived   Sex   Age  Pclass  SibSp  Parch  \\\n27            28          1         0  male  19.0       1      3      2   \n793          794          1         0  male   NaN       1      0      0   \n782          783          1         0  male  29.0       1      0      0   \n748          749          1         0  male  19.0       1      1      0   \n667          668          1         0  male   NaN       3      0      0   \n636          637          1         0  male  32.0       3      0      0   \n544          545          1         0  male  50.0       1      1      0   \n826          827          1         0  male   NaN       3      0      0   \n434          435          1         0  male  50.0       1      1      0   \n382          383          1         0  male  32.0       3      0      0   \n377          378          1         0  male  27.0       1      0      2   \n528          529          1         0  male  39.0       3      0      0   \n834          835          1         0  male  18.0       3      0      0   \n67            68          1         0  male  19.0       3      0      0   \n169          170          1         0  male  28.0       3      0      0   \n372          373          1         0  male  19.0       3      0      0   \n821          822          0         1  male  27.0       3      0      0   \n81            82          0         1  male  29.0       3      0      0   \n125          126          0         1  male  12.0       3      1      0   \n712          713          0         1  male  48.0       1      1      0   \n681          682          0         1  male  27.0       1      0      0   \n127          128          0         1  male  24.0       3      0      0   \n647          648          0         1  male  56.0       1      0      0   \n267          268          0         1  male  25.0       3      1      0   \n570          571          0         1  male  62.0       2      0      0   \n569          570          0         1  male  32.0       3      0      0   \n553          554          0         1  male  22.0       3      0      0   \n187          188          0         1  male  45.0       1      0      0   \n220          221          0         1  male  16.0       3      0      0   \n444          445          0         1  male   NaN       3      0      0   \n226          227          0         1  male  19.0       2      0      0   \n248          249          0         1  male  37.0       1      1      1   \n587          588          0         1  male  60.0       1      1      1   \n621          622          0         1  male  42.0       1      1      0   \n\n                Ticket      Fare        Cabin Embarked  \\\n27               19950  263.0000  C23 C25 C27        S   \n793           PC 17600   30.6958          NaN        C   \n782             113501   30.0000           D6        S   \n748             113773   53.1000          D30        S   \n667             312993    7.7750          NaN        S   \n636  STON/O 2. 3101292    7.9250          NaN        S   \n544           PC 17761  106.4250          C86        C   \n826               1601   56.4958          NaN        S   \n434              13507   55.9000          E44        S   \n382  STON/O 2. 3101293    7.9250          NaN        S   \n377             113503  211.5000          C82        C   \n528            3101296    7.9250          NaN        S   \n834               2223    8.3000          NaN        S   \n67           S.P. 3464    8.1583          NaN        S   \n169               1601   56.4958          NaN        S   \n372             323951    8.0500          NaN        S   \n821             315098    8.6625          NaN        S   \n81              345779    9.5000          NaN        S   \n125               2651   11.2417          NaN        C   \n712              19996   52.0000         C126        S   \n681           PC 17572   76.7292          D49        C   \n127            C 17369    7.1417          NaN        S   \n647              13213   35.5000          A26        C   \n267             347083    7.7750          NaN        S   \n570        S.W./PP 752   10.5000          NaN        S   \n569             350417    7.8542          NaN        S   \n553               2620    7.2250          NaN        C   \n187             111428   26.5500          NaN        S   \n220    SOTON/OQ 392089    8.0500          NaN        S   \n444              65306    8.1125          NaN        S   \n226          SW/PP 751   10.5000          NaN        S   \n248              11751   52.5542          D35        S   \n587              13567   79.2000          B41        C   \n621              11753   52.5542          D19        S   \n\n                                              Name  \n27                  Fortune, Mr. Charles Alexander  \n793                       Hoyt, Mr. William Fisher  \n782                         Long, Mr. Milton Clyde  \n748                      Marvin, Mr. Daniel Warner  \n667                     Rommetvedt, Mr. Knud Paust  \n636                     Leinonen, Mr. Antti Gustaf  \n544                     Douglas, Mr. Walter Donald  \n826                                   Lam, Mr. Len  \n434                      Silvey, Mr. William Baird  \n382                             Tikkanen, Mr. Juho  \n377                      Widener, Mr. Harry Elkins  \n528                      Salonen, Mr. Johan Werner  \n834                         Allum, Mr. Owen George  \n67                        Crease, Mr. Ernest James  \n169                                  Ling, Mr. Lee  \n372                     Beavan, Mr. William Thomas  \n821                              Lulic, Mr. Nikola  \n81                     Sheerlinck, Mr. Jan Baptist  \n125                   Nicola-Yarred, Master. Elias  \n712                       Taylor, Mr. Elmer Zebley  \n681                             Hassab, Mr. Hammad  \n127                      Madsen, Mr. Fridtjof Arne  \n647            Simonius-Blumer, Col. Oberst Alfons  \n267                       Persson, Mr. Ernst Ulrik  \n570                             Harris, Mr. George  \n569                              Jonsson, Mr. Carl  \n553              Leeni, Mr. Fahim (\"Philip Zenni\")  \n187  Romaine, Mr. Charles Hallace (\"Mr C Rolmane\")  \n220                 Sunderland, Mr. Victor Francis  \n444              Johannesen-Bratthammer, Mr. Bernt  \n226                      Mellors, Mr. William John  \n248                  Beckwith, Mr. Richard Leonard  \n587               Frolicher-Stehli, Mr. Maxmillian  \n621                   Kimball, Mr. Edwin Nelson Jr  ",
      "text/html": "<div>\n<style scoped>\n    .dataframe tbody tr th:only-of-type {\n        vertical-align: middle;\n    }\n\n    .dataframe tbody tr th {\n        vertical-align: top;\n    }\n\n    .dataframe thead th {\n        text-align: right;\n    }\n</style>\n<table border=\"1\" class=\"dataframe\">\n  <thead>\n    <tr style=\"text-align: right;\">\n      <th></th>\n      <th>PassengerId</th>\n      <th>Predicted</th>\n      <th>Survived</th>\n      <th>Sex</th>\n      <th>Age</th>\n      <th>Pclass</th>\n      <th>SibSp</th>\n      <th>Parch</th>\n      <th>Ticket</th>\n      <th>Fare</th>\n      <th>Cabin</th>\n      <th>Embarked</th>\n      <th>Name</th>\n    </tr>\n  </thead>\n  <tbody>\n    <tr>\n      <th>27</th>\n      <td>28</td>\n      <td>1</td>\n      <td>0</td>\n      <td>male</td>\n      <td>19.0</td>\n      <td>1</td>\n      <td>3</td>\n      <td>2</td>\n      <td>19950</td>\n      <td>263.0000</td>\n      <td>C23 C25 C27</td>\n      <td>S</td>\n      <td>Fortune, Mr. Charles Alexander</td>\n    </tr>\n    <tr>\n      <th>793</th>\n      <td>794</td>\n      <td>1</td>\n      <td>0</td>\n      <td>male</td>\n      <td>NaN</td>\n      <td>1</td>\n      <td>0</td>\n      <td>0</td>\n      <td>PC 17600</td>\n      <td>30.6958</td>\n      <td>NaN</td>\n      <td>C</td>\n      <td>Hoyt, Mr. William Fisher</td>\n    </tr>\n    <tr>\n      <th>782</th>\n      <td>783</td>\n      <td>1</td>\n      <td>0</td>\n      <td>male</td>\n      <td>29.0</td>\n      <td>1</td>\n      <td>0</td>\n      <td>0</td>\n      <td>113501</td>\n      <td>30.0000</td>\n      <td>D6</td>\n      <td>S</td>\n      <td>Long, Mr. Milton Clyde</td>\n    </tr>\n    <tr>\n      <th>748</th>\n      <td>749</td>\n      <td>1</td>\n      <td>0</td>\n      <td>male</td>\n      <td>19.0</td>\n      <td>1</td>\n      <td>1</td>\n      <td>0</td>\n      <td>113773</td>\n      <td>53.1000</td>\n      <td>D30</td>\n      <td>S</td>\n      <td>Marvin, Mr. Daniel Warner</td>\n    </tr>\n    <tr>\n      <th>667</th>\n      <td>668</td>\n      <td>1</td>\n      <td>0</td>\n      <td>male</td>\n      <td>NaN</td>\n      <td>3</td>\n      <td>0</td>\n      <td>0</td>\n      <td>312993</td>\n      <td>7.7750</td>\n      <td>NaN</td>\n      <td>S</td>\n      <td>Rommetvedt, Mr. Knud Paust</td>\n    </tr>\n    <tr>\n      <th>636</th>\n      <td>637</td>\n      <td>1</td>\n      <td>0</td>\n      <td>male</td>\n      <td>32.0</td>\n      <td>3</td>\n      <td>0</td>\n      <td>0</td>\n      <td>STON/O 2. 3101292</td>\n      <td>7.9250</td>\n      <td>NaN</td>\n      <td>S</td>\n      <td>Leinonen, Mr. Antti Gustaf</td>\n    </tr>\n    <tr>\n      <th>544</th>\n      <td>545</td>\n      <td>1</td>\n      <td>0</td>\n      <td>male</td>\n      <td>50.0</td>\n      <td>1</td>\n      <td>1</td>\n      <td>0</td>\n      <td>PC 17761</td>\n      <td>106.4250</td>\n      <td>C86</td>\n      <td>C</td>\n      <td>Douglas, Mr. Walter Donald</td>\n    </tr>\n    <tr>\n      <th>826</th>\n      <td>827</td>\n      <td>1</td>\n      <td>0</td>\n      <td>male</td>\n      <td>NaN</td>\n      <td>3</td>\n      <td>0</td>\n      <td>0</td>\n      <td>1601</td>\n      <td>56.4958</td>\n      <td>NaN</td>\n      <td>S</td>\n      <td>Lam, Mr. Len</td>\n    </tr>\n    <tr>\n      <th>434</th>\n      <td>435</td>\n      <td>1</td>\n      <td>0</td>\n      <td>male</td>\n      <td>50.0</td>\n      <td>1</td>\n      <td>1</td>\n      <td>0</td>\n      <td>13507</td>\n      <td>55.9000</td>\n      <td>E44</td>\n      <td>S</td>\n      <td>Silvey, Mr. William Baird</td>\n    </tr>\n    <tr>\n      <th>382</th>\n      <td>383</td>\n      <td>1</td>\n      <td>0</td>\n      <td>male</td>\n      <td>32.0</td>\n      <td>3</td>\n      <td>0</td>\n      <td>0</td>\n      <td>STON/O 2. 3101293</td>\n      <td>7.9250</td>\n      <td>NaN</td>\n      <td>S</td>\n      <td>Tikkanen, Mr. Juho</td>\n    </tr>\n    <tr>\n      <th>377</th>\n      <td>378</td>\n      <td>1</td>\n      <td>0</td>\n      <td>male</td>\n      <td>27.0</td>\n      <td>1</td>\n      <td>0</td>\n      <td>2</td>\n      <td>113503</td>\n      <td>211.5000</td>\n      <td>C82</td>\n      <td>C</td>\n      <td>Widener, Mr. Harry Elkins</td>\n    </tr>\n    <tr>\n      <th>528</th>\n      <td>529</td>\n      <td>1</td>\n      <td>0</td>\n      <td>male</td>\n      <td>39.0</td>\n      <td>3</td>\n      <td>0</td>\n      <td>0</td>\n      <td>3101296</td>\n      <td>7.9250</td>\n      <td>NaN</td>\n      <td>S</td>\n      <td>Salonen, Mr. Johan Werner</td>\n    </tr>\n    <tr>\n      <th>834</th>\n      <td>835</td>\n      <td>1</td>\n      <td>0</td>\n      <td>male</td>\n      <td>18.0</td>\n      <td>3</td>\n      <td>0</td>\n      <td>0</td>\n      <td>2223</td>\n      <td>8.3000</td>\n      <td>NaN</td>\n      <td>S</td>\n      <td>Allum, Mr. Owen George</td>\n    </tr>\n    <tr>\n      <th>67</th>\n      <td>68</td>\n      <td>1</td>\n      <td>0</td>\n      <td>male</td>\n      <td>19.0</td>\n      <td>3</td>\n      <td>0</td>\n      <td>0</td>\n      <td>S.P. 3464</td>\n      <td>8.1583</td>\n      <td>NaN</td>\n      <td>S</td>\n      <td>Crease, Mr. Ernest James</td>\n    </tr>\n    <tr>\n      <th>169</th>\n      <td>170</td>\n      <td>1</td>\n      <td>0</td>\n      <td>male</td>\n      <td>28.0</td>\n      <td>3</td>\n      <td>0</td>\n      <td>0</td>\n      <td>1601</td>\n      <td>56.4958</td>\n      <td>NaN</td>\n      <td>S</td>\n      <td>Ling, Mr. Lee</td>\n    </tr>\n    <tr>\n      <th>372</th>\n      <td>373</td>\n      <td>1</td>\n      <td>0</td>\n      <td>male</td>\n      <td>19.0</td>\n      <td>3</td>\n      <td>0</td>\n      <td>0</td>\n      <td>323951</td>\n      <td>8.0500</td>\n      <td>NaN</td>\n      <td>S</td>\n      <td>Beavan, Mr. William Thomas</td>\n    </tr>\n    <tr>\n      <th>821</th>\n      <td>822</td>\n      <td>0</td>\n      <td>1</td>\n      <td>male</td>\n      <td>27.0</td>\n      <td>3</td>\n      <td>0</td>\n      <td>0</td>\n      <td>315098</td>\n      <td>8.6625</td>\n      <td>NaN</td>\n      <td>S</td>\n      <td>Lulic, Mr. Nikola</td>\n    </tr>\n    <tr>\n      <th>81</th>\n      <td>82</td>\n      <td>0</td>\n      <td>1</td>\n      <td>male</td>\n      <td>29.0</td>\n      <td>3</td>\n      <td>0</td>\n      <td>0</td>\n      <td>345779</td>\n      <td>9.5000</td>\n      <td>NaN</td>\n      <td>S</td>\n      <td>Sheerlinck, Mr. Jan Baptist</td>\n    </tr>\n    <tr>\n      <th>125</th>\n      <td>126</td>\n      <td>0</td>\n      <td>1</td>\n      <td>male</td>\n      <td>12.0</td>\n      <td>3</td>\n      <td>1</td>\n      <td>0</td>\n      <td>2651</td>\n      <td>11.2417</td>\n      <td>NaN</td>\n      <td>C</td>\n      <td>Nicola-Yarred, Master. Elias</td>\n    </tr>\n    <tr>\n      <th>712</th>\n      <td>713</td>\n      <td>0</td>\n      <td>1</td>\n      <td>male</td>\n      <td>48.0</td>\n      <td>1</td>\n      <td>1</td>\n      <td>0</td>\n      <td>19996</td>\n      <td>52.0000</td>\n      <td>C126</td>\n      <td>S</td>\n      <td>Taylor, Mr. Elmer Zebley</td>\n    </tr>\n    <tr>\n      <th>681</th>\n      <td>682</td>\n      <td>0</td>\n      <td>1</td>\n      <td>male</td>\n      <td>27.0</td>\n      <td>1</td>\n      <td>0</td>\n      <td>0</td>\n      <td>PC 17572</td>\n      <td>76.7292</td>\n      <td>D49</td>\n      <td>C</td>\n      <td>Hassab, Mr. Hammad</td>\n    </tr>\n    <tr>\n      <th>127</th>\n      <td>128</td>\n      <td>0</td>\n      <td>1</td>\n      <td>male</td>\n      <td>24.0</td>\n      <td>3</td>\n      <td>0</td>\n      <td>0</td>\n      <td>C 17369</td>\n      <td>7.1417</td>\n      <td>NaN</td>\n      <td>S</td>\n      <td>Madsen, Mr. Fridtjof Arne</td>\n    </tr>\n    <tr>\n      <th>647</th>\n      <td>648</td>\n      <td>0</td>\n      <td>1</td>\n      <td>male</td>\n      <td>56.0</td>\n      <td>1</td>\n      <td>0</td>\n      <td>0</td>\n      <td>13213</td>\n      <td>35.5000</td>\n      <td>A26</td>\n      <td>C</td>\n      <td>Simonius-Blumer, Col. Oberst Alfons</td>\n    </tr>\n    <tr>\n      <th>267</th>\n      <td>268</td>\n      <td>0</td>\n      <td>1</td>\n      <td>male</td>\n      <td>25.0</td>\n      <td>3</td>\n      <td>1</td>\n      <td>0</td>\n      <td>347083</td>\n      <td>7.7750</td>\n      <td>NaN</td>\n      <td>S</td>\n      <td>Persson, Mr. Ernst Ulrik</td>\n    </tr>\n    <tr>\n      <th>570</th>\n      <td>571</td>\n      <td>0</td>\n      <td>1</td>\n      <td>male</td>\n      <td>62.0</td>\n      <td>2</td>\n      <td>0</td>\n      <td>0</td>\n      <td>S.W./PP 752</td>\n      <td>10.5000</td>\n      <td>NaN</td>\n      <td>S</td>\n      <td>Harris, Mr. George</td>\n    </tr>\n    <tr>\n      <th>569</th>\n      <td>570</td>\n      <td>0</td>\n      <td>1</td>\n      <td>male</td>\n      <td>32.0</td>\n      <td>3</td>\n      <td>0</td>\n      <td>0</td>\n      <td>350417</td>\n      <td>7.8542</td>\n      <td>NaN</td>\n      <td>S</td>\n      <td>Jonsson, Mr. Carl</td>\n    </tr>\n    <tr>\n      <th>553</th>\n      <td>554</td>\n      <td>0</td>\n      <td>1</td>\n      <td>male</td>\n      <td>22.0</td>\n      <td>3</td>\n      <td>0</td>\n      <td>0</td>\n      <td>2620</td>\n      <td>7.2250</td>\n      <td>NaN</td>\n      <td>C</td>\n      <td>Leeni, Mr. Fahim (\"Philip Zenni\")</td>\n    </tr>\n    <tr>\n      <th>187</th>\n      <td>188</td>\n      <td>0</td>\n      <td>1</td>\n      <td>male</td>\n      <td>45.0</td>\n      <td>1</td>\n      <td>0</td>\n      <td>0</td>\n      <td>111428</td>\n      <td>26.5500</td>\n      <td>NaN</td>\n      <td>S</td>\n      <td>Romaine, Mr. Charles Hallace (\"Mr C Rolmane\")</td>\n    </tr>\n    <tr>\n      <th>220</th>\n      <td>221</td>\n      <td>0</td>\n      <td>1</td>\n      <td>male</td>\n      <td>16.0</td>\n      <td>3</td>\n      <td>0</td>\n      <td>0</td>\n      <td>SOTON/OQ 392089</td>\n      <td>8.0500</td>\n      <td>NaN</td>\n      <td>S</td>\n      <td>Sunderland, Mr. Victor Francis</td>\n    </tr>\n    <tr>\n      <th>444</th>\n      <td>445</td>\n      <td>0</td>\n      <td>1</td>\n      <td>male</td>\n      <td>NaN</td>\n      <td>3</td>\n      <td>0</td>\n      <td>0</td>\n      <td>65306</td>\n      <td>8.1125</td>\n      <td>NaN</td>\n      <td>S</td>\n      <td>Johannesen-Bratthammer, Mr. Bernt</td>\n    </tr>\n    <tr>\n      <th>226</th>\n      <td>227</td>\n      <td>0</td>\n      <td>1</td>\n      <td>male</td>\n      <td>19.0</td>\n      <td>2</td>\n      <td>0</td>\n      <td>0</td>\n      <td>SW/PP 751</td>\n      <td>10.5000</td>\n      <td>NaN</td>\n      <td>S</td>\n      <td>Mellors, Mr. William John</td>\n    </tr>\n    <tr>\n      <th>248</th>\n      <td>249</td>\n      <td>0</td>\n      <td>1</td>\n      <td>male</td>\n      <td>37.0</td>\n      <td>1</td>\n      <td>1</td>\n      <td>1</td>\n      <td>11751</td>\n      <td>52.5542</td>\n      <td>D35</td>\n      <td>S</td>\n      <td>Beckwith, Mr. Richard Leonard</td>\n    </tr>\n    <tr>\n      <th>587</th>\n      <td>588</td>\n      <td>0</td>\n      <td>1</td>\n      <td>male</td>\n      <td>60.0</td>\n      <td>1</td>\n      <td>1</td>\n      <td>1</td>\n      <td>13567</td>\n      <td>79.2000</td>\n      <td>B41</td>\n      <td>C</td>\n      <td>Frolicher-Stehli, Mr. Maxmillian</td>\n    </tr>\n    <tr>\n      <th>621</th>\n      <td>622</td>\n      <td>0</td>\n      <td>1</td>\n      <td>male</td>\n      <td>42.0</td>\n      <td>1</td>\n      <td>1</td>\n      <td>0</td>\n      <td>11753</td>\n      <td>52.5542</td>\n      <td>D19</td>\n      <td>S</td>\n      <td>Kimball, Mr. Edwin Nelson Jr</td>\n    </tr>\n  </tbody>\n</table>\n</div>"
     },
     "metadata": {},
     "execution_count": 61
    }
   ],
   "source": [
    "men.sort_values(\"Survived\")"
   ]
  },
  {
   "cell_type": "markdown",
   "metadata": {},
   "source": [
    "## Submission"
   ]
  },
  {
   "cell_type": "code",
   "execution_count": 79,
   "metadata": {
    "tags": []
   },
   "outputs": [
    {
     "output_type": "stream",
     "name": "stdout",
     "text": "Gender accuracy: | 0.7867564534231201\n"
    }
   ],
   "source": [
    "# Accuracy if I predict all women were survived\n",
    "gender_predict = (X['Classify_Sex'] == 1).astype(np.int64)\n",
    "gender_accuracy = np.mean(gender_predict == y)\n",
    "print(\"Gender accuracy: |\", gender_accuracy)\n"
   ]
  },
  {
   "cell_type": "code",
   "execution_count": 80,
   "metadata": {},
   "outputs": [
    {
     "output_type": "execute_result",
     "data": {
      "text/plain": "RandomForestClassifier(n_estimators=1000, n_jobs=-1, random_state=0)"
     },
     "metadata": {},
     "execution_count": 80
    }
   ],
   "source": [
    "model = RandomForestClassifier(n_estimators=1000,n_jobs=-1,random_state=0)\n",
    "model.fit(X[variables],y)"
   ]
  },
  {
   "cell_type": "code",
   "execution_count": 81,
   "metadata": {},
   "outputs": [],
   "source": [
    "X_test = test[variables]\n",
    "X_test = X_test.fillna(-1)"
   ]
  },
  {
   "cell_type": "code",
   "execution_count": 82,
   "metadata": {},
   "outputs": [],
   "source": [
    "predict = model.predict(X_test)"
   ]
  },
  {
   "cell_type": "code",
   "execution_count": 83,
   "metadata": {},
   "outputs": [
    {
     "output_type": "execute_result",
     "data": {
      "text/plain": "array([0, 0, 0, 1, 0, 0, 0, 0, 1, 0, 0, 0, 1, 0, 1, 1, 0, 1, 0, 1, 0, 1,\n       1, 0, 1, 0, 1, 1, 0, 0, 0, 0, 1, 0, 1, 1, 0, 0, 0, 1, 0, 0, 0, 1,\n       1, 0, 0, 0, 1, 1, 0, 0, 1, 1, 0, 0, 0, 0, 0, 1, 0, 0, 0, 1, 1, 1,\n       1, 0, 0, 1, 1, 0, 0, 0, 1, 0, 0, 1, 0, 1, 1, 0, 0, 0, 0, 0, 1, 0,\n       1, 1, 1, 0, 1, 0, 0, 0, 1, 0, 0, 0, 1, 0, 0, 0, 1, 0, 0, 0, 0, 0,\n       0, 1, 1, 1, 1, 0, 0, 1, 0, 1, 1, 0, 1, 0, 0, 1, 0, 1, 1, 0, 0, 1,\n       0, 0, 0, 0, 0, 0, 0, 0, 0, 1, 0, 0, 1, 0, 0, 0, 1, 0, 1, 0, 0, 1,\n       0, 0, 1, 0, 1, 1, 1, 1, 1, 0, 0, 0, 0, 0, 1, 0, 0, 0, 0, 0, 0, 1,\n       1, 1, 1, 1, 0, 1, 1, 0, 1, 0, 1, 0, 0, 0, 0, 0, 1, 0, 1, 0, 1, 0,\n       0, 0, 1, 1, 1, 1, 0, 0, 0, 0, 1, 0, 0, 0, 0, 0, 1, 0, 1, 0, 1, 0,\n       1, 0, 1, 1, 1, 0, 0, 1, 0, 0, 0, 1, 0, 0, 1, 0, 1, 1, 1, 1, 1, 1,\n       0, 0, 1, 1, 1, 0, 1, 0, 1, 0, 1, 0, 0, 0, 0, 0, 1, 0, 0, 0, 1, 1,\n       0, 0, 0, 0, 0, 0, 0, 0, 1, 1, 0, 1, 0, 0, 0, 0, 0, 1, 1, 0, 1, 0,\n       0, 0, 0, 0, 0, 0, 0, 0, 0, 0, 1, 0, 0, 0, 0, 0, 0, 0, 1, 1, 1, 1,\n       0, 0, 0, 1, 0, 0, 1, 1, 0, 0, 0, 0, 0, 0, 1, 1, 1, 0, 1, 0, 0, 0,\n       1, 0, 0, 1, 0, 0, 0, 0, 0, 1, 0, 0, 0, 1, 1, 1, 0, 1, 0, 1, 1, 0,\n       0, 0, 1, 1, 1, 0, 0, 0, 0, 1, 1, 1, 1, 1, 0, 0, 1, 0, 0, 1, 0, 1,\n       1, 1, 0, 0, 0, 0, 0, 0, 1, 1, 1, 1, 0, 0, 0, 0, 0, 1, 1, 0, 0, 1,\n       0, 1, 0, 0, 1, 0, 1, 0, 1, 0, 0, 0, 1, 1, 1, 1, 0, 0, 1, 0, 0, 1])"
     },
     "metadata": {},
     "execution_count": 83
    }
   ],
   "source": [
    "predict"
   ]
  },
  {
   "cell_type": "code",
   "execution_count": 84,
   "metadata": {},
   "outputs": [],
   "source": [
    "subscription = pd.Series(predict, index=test['PassengerId'], name='Survived')\n",
    "subscription.to_csv(\"Scikit_RandomForestClassifier3.csv\", header=True)"
   ]
  },
  {
   "cell_type": "code",
   "execution_count": 85,
   "metadata": {
    "tags": []
   },
   "outputs": [
    {
     "output_type": "stream",
     "name": "stdout",
     "text": "PassengerId,Survived\n892,0\n893,0\n894,1\n895,1\n896,0\n897,0\n898,0\n899,0\n900,1\n"
    }
   ],
   "source": [
    "!head -n10 Scikit_RandomForestClassifier2.csv"
   ]
  },
  {
   "cell_type": "code",
   "execution_count": null,
   "metadata": {},
   "outputs": [],
   "source": []
  }
 ],
 "metadata": {
  "kernelspec": {
   "display_name": "Python 3.8.3 64-bit ('ml-titanic': conda)",
   "language": "python",
   "name": "python_defaultSpec_1596565632435"
  },
  "language_info": {
   "codemirror_mode": {
    "name": "ipython",
    "version": 3
   },
   "file_extension": ".py",
   "mimetype": "text/x-python",
   "name": "python",
   "nbconvert_exporter": "python",
   "pygments_lexer": "ipython3",
   "version": "3.8.3-final"
  }
 },
 "nbformat": 4,
 "nbformat_minor": 4
}